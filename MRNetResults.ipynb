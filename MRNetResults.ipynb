{
 "cells": [
  {
   "cell_type": "code",
   "execution_count": 1,
   "metadata": {},
   "outputs": [],
   "source": [
    "from lib.mrnetdata import *\n",
    "from lib.plot import *\n",
    "from lib.MLMethod import *\n",
    "from lib.kneedata import *\n",
    "from lib.evaluator import *"
   ]
  },
  {
   "cell_type": "code",
   "execution_count": null,
   "metadata": {},
   "outputs": [],
   "source": []
  },
  {
   "cell_type": "code",
   "execution_count": 2,
   "metadata": {},
   "outputs": [],
   "source": [
    "base_path = \"/home/dawit/Datalogi/BachelorProjekt/data/\"\n",
    "mrnet_train_ab = MRnetData()\n",
    "mrnet_train_ab.loadData(from_original_files=True,pickled_db_path=base_path+\"../jub/lib/mrnet/abnormal_train.pck\",path_scans=base_path+\"extracted_MR/abnormal/train\",\\\n",
    "               path_labels=base_path+\"MRNet-v1.0/train-abnormal.csv\")\n",
    "mrnet.prepareTrainingData()\n",
    "\n",
    "mrnet_train_ab = MRnetData()\n",
    "mrnet_test_ab.loadData(from_original_files=True,pickled_db_path=base_path+\"../jub/lib/mrnet/abnormal_valid.pck\",path_scans=base_path+\"extracted_MR/abnormal/test\",\\\n",
    "               path_labels=base_path+\"MRNet-v1.0/valid-abnormal.csv\")\n",
    "mrnet_test_ab.prepareTrainingData()\n",
    "#mrnet_train_acl = mrnet.genSameScansDifferentLabels(path_labels=base_path+\"MRNet-v1.0/train-acl.csv\")\n",
    "#mrnet_train_meniscus = mrnet.genSameScansDifferentLabels(path_labels=base_path+\"MRNet-v1.0/train-meniscus.csv\")\n",
    "\n",
    "#test_data = KneeData()\n",
    "#test_data.loadData(from_original_files=True,pickled_db_path=\"scans_and_labels_test.pck\",path='/home/dawit/Datalogi/BachelorProjekt/data/test_data/')\n",
    "#test_data.prepareTrainingData()"
   ]
  },
  {
   "cell_type": "code",
   "execution_count": null,
   "metadata": {},
   "outputs": [],
   "source": [
    "mrnet_test_ab.loadData(from_original_files=True,pickled_db_path=base_path+\"../jub/lib/mrnet/abnormal_train.pck\",path_scans=base_path+\"extracted_MR/abnormal/train\",\\\n",
    "               path_labels=base_path+\"MRNet-v1.0/train-abnormal.csv\")\n",
    "mrnet.prepareTrainingData()"
   ]
  },
  {
   "cell_type": "code",
   "execution_count": 3,
   "metadata": {},
   "outputs": [
    {
     "name": "stdout",
     "output_type": "stream",
     "text": [
      "WARNING:tensorflow:From /home/dawit/Programs/anaconda3/envs/bach/lib/python3.7/site-packages/tensorflow/python/framework/op_def_library.py:263: colocate_with (from tensorflow.python.framework.ops) is deprecated and will be removed in a future version.\n",
      "Instructions for updating:\n",
      "Colocations handled automatically by placer.\n",
      "WARNING:tensorflow:From /home/dawit/Datalogi/BachelorProjekt/jub/lib/MLMethod.py:254: softmax_cross_entropy_with_logits (from tensorflow.python.ops.nn_ops) is deprecated and will be removed in a future version.\n",
      "Instructions for updating:\n",
      "\n",
      "Future major versions of TensorFlow will allow gradients to flow\n",
      "into the labels input on backprop by default.\n",
      "\n",
      "See `tf.nn.softmax_cross_entropy_with_logits_v2`.\n",
      "\n",
      "Time usage: 0:00:00\n"
     ]
    }
   ],
   "source": [
    "ml_method = ConvolutionMethod(mrnet_acl,load_prev_model=False,input_size=2)"
   ]
  },
  {
   "cell_type": "code",
   "execution_count": 4,
   "metadata": {},
   "outputs": [
    {
     "name": "stdout",
     "output_type": "stream",
     "text": [
      "initialization finished\n"
     ]
    }
   ],
   "source": [
    "e_ML_shape  = Evaluator(data_obj=mrnet_acl,method_obj=ml_method,load_as_slice=True)"
   ]
  },
  {
   "cell_type": "code",
   "execution_count": 7,
   "metadata": {},
   "outputs": [
    {
     "name": "stdout",
     "output_type": "stream",
     "text": [
      "Elapsed time: 69.12520146369934\n",
      "0.36300000000000004\n"
     ]
    }
   ],
   "source": [
    "print(e_ML_shape.MAP(mrnet.count,5,[\"value\"]))\n",
    "#plotter = Plotter()\n",
    "#plotter.plotSingleShape(mrnet.getScansAtSlice()[0])\n",
    "#mrnet.labels"
   ]
  },
  {
   "cell_type": "code",
   "execution_count": 4,
   "metadata": {},
   "outputs": [
    {
     "name": "stdout",
     "output_type": "stream",
     "text": [
      "(256, 256, 32)\n",
      "(256, 256, 32)\n",
      "(256, 256, 36)\n",
      "(256, 256, 20)\n",
      "(256, 256, 30)\n",
      "(256, 256, 38)\n",
      "(256, 256, 26)\n",
      "(256, 256, 36)\n",
      "(256, 256, 26)\n",
      "(256, 256, 26)\n"
     ]
    }
   ],
   "source": [
    "for i in mrnet.scans:\n",
    "    print(i.shape)"
   ]
  },
  {
   "cell_type": "code",
   "execution_count": 5,
   "metadata": {},
   "outputs": [
    {
     "data": {
      "text/plain": [
       "{'valueTrue': [0, 1, 4, 7, 9], 'valueFalse': [2, 3, 5, 6, 8]}"
      ]
     },
     "execution_count": 5,
     "metadata": {},
     "output_type": "execute_result"
    }
   ],
   "source": [
    "mrnet.categorizeImages()"
   ]
  },
  {
   "cell_type": "code",
   "execution_count": 6,
   "metadata": {},
   "outputs": [
    {
     "data": {
      "text/plain": [
       "(256, 256)"
      ]
     },
     "execution_count": 6,
     "metadata": {},
     "output_type": "execute_result"
    }
   ],
   "source": [
    "mrnet.getScansAtSlice()[0].shape"
   ]
  },
  {
   "cell_type": "code",
   "execution_count": 7,
   "metadata": {},
   "outputs": [],
   "source": [
    "mrnet.prepareTrainingData()"
   ]
  },
  {
   "cell_type": "code",
   "execution_count": 8,
   "metadata": {},
   "outputs": [
    {
     "data": {
      "text/plain": [
       "(array([[[0, 0, 1, ..., 2, 1, 0],\n",
       "         [0, 0, 1, ..., 2, 1, 0],\n",
       "         [0, 0, 4, ..., 1, 0, 0],\n",
       "         ...,\n",
       "         [0, 0, 3, ..., 4, 2, 0],\n",
       "         [0, 0, 3, ..., 6, 0, 0],\n",
       "         [0, 0, 3, ..., 5, 1, 0]]], dtype=int32), array([[1., 0.]]))"
      ]
     },
     "execution_count": 8,
     "metadata": {},
     "output_type": "execute_result"
    }
   ],
   "source": [
    "mrnet.getTrainingData(1)"
   ]
  },
  {
   "cell_type": "code",
   "execution_count": null,
   "metadata": {},
   "outputs": [],
   "source": []
  }
 ],
 "metadata": {
  "kernelspec": {
   "display_name": "Python 3",
   "language": "python",
   "name": "python3"
  },
  "language_info": {
   "codemirror_mode": {
    "name": "ipython",
    "version": 3
   },
   "file_extension": ".py",
   "mimetype": "text/x-python",
   "name": "python",
   "nbconvert_exporter": "python",
   "pygments_lexer": "ipython3",
   "version": "3.7.1"
  }
 },
 "nbformat": 4,
 "nbformat_minor": 2
}

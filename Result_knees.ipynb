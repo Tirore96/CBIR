{
 "cells": [
  {
   "cell_type": "code",
   "execution_count": 1,
   "metadata": {},
   "outputs": [],
   "source": [
    "#import numpy as np\n",
    "#import matplotlib.pyplot as plt\n",
    "#import cProfile\n",
    "#import mahotas\n",
    "#import itk\n",
    "#import skimage.feature as ft\n",
    "\n",
    "#own libraries inside lib/ \n",
    "from lib.evaluator import *\n",
    "from lib.features import *\n",
    "from lib.shapes import *\n",
    "#from lib.kneedata import *\n",
    "from lib.plot import *\n",
    "from lib.MLMethod import *\n",
    "from lib.NaiveFeatures import *\n",
    "import matplotlib.pyplot as plt\n"
   ]
  },
  {
   "cell_type": "code",
   "execution_count": 4,
   "metadata": {},
   "outputs": [],
   "source": [
    "#full_data = KneeData()\n",
    "#full_data.loadData(from_original_files=True,pickled_db_path=\"scans_and_labels_full.pck\",path='/home/dawit/Datalogi/BachelorProjekt/data/full_data/')\n",
    "\n",
    "train_data = KneeData()\n",
    "train_data.loadData(from_original_files=True,pickled_db_path=\"scans_and_labels_train.pck\",path='/home/dawit/Datalogi/BachelorProjekt/data/erik/test_data/')\n",
    "#train_data.prepareTrainingData()\n",
    "\n",
    "#test_data = KneeData()\n",
    "#test_data.loadData(from_original_files=True,pickled_db_path=\"scans_and_labels_test.pck\",path='/home/dawit/Datalogi/BachelorProjekt/data/test_data/')"
   ]
  },
  {
   "cell_type": "code",
   "execution_count": 5,
   "metadata": {},
   "outputs": [
    {
     "name": "stdout",
     "output_type": "stream",
     "text": [
      "180139-005-R-Turbo 3D T1, 1-2004.mat False\n",
      "280581-001-R-Turbo 3D T1, 1-2004.mat True\n",
      "040960-001-L-Turbo 3D T1, 1-2004.mat True\n",
      "100147-009-L-Turbo 3D T1, 1-2004.mat False\n",
      "160557-001-R-Turbo 3D T1, 1-2004.mat True\n",
      "270729-009-L-Turbo 3D T1, 1-2004.mat True\n",
      "081231-004-L-Turbo 3D T1, 1-2004.mat True\n",
      "071037-003-R-Turbo 3D T1, 1-2004.mat True\n",
      "100373-001-L-Turbo 3D T1, 1-2004.mat True\n",
      "050637-003-R-Turbo 3D T1, 1-2004.mat False\n",
      "220238-007-L-Turbo 3D T1, 1-2004.mat False\n",
      "050837-001-R-Turbo 3D T1, 1-2004.mat True\n",
      "040364-001-L-Turbo 3D T1, 1-2004.mat True\n",
      "190344-008-L-Turbo 3D T1, 1-2004.mat False\n",
      "081242-001-L-Turbo 3D T1, 1-2004.mat True\n",
      "260679-001-R-Turbo 3D T1, 1-2004.mat True\n",
      "080855-001-L-Turbo 3D T1, 1-2004.mat True\n",
      "071065-001-L-Turbo 3D T1, 1-2004.mat True\n",
      "260265-001-L-Turbo 3D T1, 1-2004.mat True\n",
      "250833-002-L-Turbo 3D T1, 1-2004.mat True\n",
      "200237-007-R-Turbo 3D T1, 1-2004.mat True\n",
      "260265-001-R-Turbo 3D T1, 1-2004.mat True\n",
      "280581-001-L-Turbo 3D T1, 1-2004.mat True\n",
      "270442-008-R-Turbo 3D T1, 1-2004.mat True\n",
      "050878-001-R-Turbo 3D T1, 1-2004.mat True\n",
      "041234-008-L-Turbo 3D T1, 1-2004.mat False\n",
      "280431-007-R-Turbo 3D T1, 1-2004.mat False\n",
      "050637-003-L-Turbo 3D T1, 1-2004.mat False\n",
      "250833-002-R-Turbo 3D T1, 1-2004.mat True\n",
      "041234-008-R-Turbo 3D T1, 1-2004.mat False\n",
      "141044-003-R-Turbo 3D T1, 1-2004.mat True\n",
      "080855-001-R-Turbo 3D T1, 1-2004.mat True\n",
      "241246-003-R-Turbo 3D T1, 1-2004.mat True\n",
      "081231-004-R-Turbo 3D T1, 1-2004.mat True\n",
      "200237-007-L-Turbo 3D T1, 1-2004.mat True\n",
      "270442-008-L-Turbo 3D T1, 1-2004.mat True\n",
      "071037-003-L-Turbo 3D T1, 1-2004.mat True\n",
      "190751-001-L-Turbo 3D T1, 1-2004.mat True\n",
      "040338-005-L-Turbo 3D T1, 1-2004.mat False\n",
      "080354-001-R-Turbo 3D T1, 1-2004.mat True\n",
      "190751-001-R-Turbo 3D T1, 1-2004.mat True\n",
      "040364-001-R-Turbo 3D T1, 1-2004.mat True\n",
      "160557-001-L-Turbo 3D T1, 1-2004.mat True\n",
      "040960-001-R-Turbo 3D T1, 1-2004.mat True\n",
      "100361-001-R-Turbo 3D T1, 1-2004.mat True\n",
      "030270-001-L-Turbo 3D T1, 1-2004.mat True\n",
      "100361-001-L-Turbo 3D T1, 1-2004.mat True\n",
      "250847-006-L-Turbo 3D T1, 1-2004.mat True\n",
      "150639-008-R-Turbo 3D T1, 1-2004.mat False\n",
      "081242-001-R-Turbo 3D T1, 1-2004.mat True\n",
      "071065-001-R-Turbo 3D T1, 1-2004.mat True\n",
      "100147-009-R-Turbo 3D T1, 1-2004.mat False\n",
      "241246-003-L-Turbo 3D T1, 1-2004.mat True\n",
      "051039-002-L-Turbo 3D T1, 1-2004.mat True\n",
      "141266-001-R-Turbo 3D T1, 1-2004.mat True\n",
      "300146-002-L-Turbo 3D T1, 1-2004.mat False\n",
      "090534-007-R-Turbo 3D T1, 1-2004.mat False\n",
      "150639-008-L-Turbo 3D T1, 1-2004.mat False\n",
      "250847-006-R-Turbo 3D T1, 1-2004.mat True\n",
      "080354-001-L-Turbo 3D T1, 1-2004.mat True\n",
      "050837-001-L-Turbo 3D T1, 1-2004.mat True\n",
      "040665-001-R-Turbo 3D T1, 1-2004.mat True\n",
      "030270-001-R-Turbo 3D T1, 1-2004.mat True\n",
      "151231-011-L-Turbo 3D T1, 1-2004.mat False\n",
      "040665-001-L-Turbo 3D T1, 1-2004.mat True\n",
      "190239-006-L-Turbo 3D T1, 1-2004.mat False\n",
      "260679-001-L-Turbo 3D T1, 1-2004.mat True\n",
      "180139-005-L-Turbo 3D T1, 1-2004.mat False\n",
      "190344-008-R-Turbo 3D T1, 1-2004.mat False\n",
      "050878-001-L-Turbo 3D T1, 1-2004.mat True\n",
      "270729-009-R-Turbo 3D T1, 1-2004.mat True\n",
      "190239-006-R-Turbo 3D T1, 1-2004.mat False\n",
      "52 20\n"
     ]
    }
   ],
   "source": [
    "count_t = 0\n",
    "count_f = 0\n",
    "for i in train_data.name_label:\n",
    "    val = train_data.name_label[i]\n",
    "    if val:\n",
    "        count_t += 1\n",
    "    else:\n",
    "        count_f += 1\n",
    "    print(i,val)\n",
    "print(count_t,count_f)\n",
    "#lbp = LBPFeatures(8,30)\n",
    "#lbp3d= LBP3DFeatures([(8,30),(8,30),(8,30)])"
   ]
  },
  {
   "cell_type": "code",
   "execution_count": 7,
   "metadata": {},
   "outputs": [],
   "source": [
    "#lbp3d.fit_parameters(5,train_data.scans,train_data.labels,\"ishealthy\",True,2,2)"
   ]
  },
  {
   "cell_type": "code",
   "execution_count": 8,
   "metadata": {},
   "outputs": [],
   "source": [
    "#test_data.scans[0].shape"
   ]
  },
  {
   "cell_type": "code",
   "execution_count": 9,
   "metadata": {},
   "outputs": [],
   "source": [
    "#lbp.fit_parameters(5,train_data.getScansAtSlice(40)[:5],train_data.labels,\"ishealthy\",True)\n",
    "#lbp3d.fit_parameters(5,train_data.scans,train_data.labels,\"ishealthy\",True,10,10)\n",
    "#lbp3d.extractFeatures(train_data.scans[0],None,None)"
   ]
  },
  {
   "cell_type": "code",
   "execution_count": 10,
   "metadata": {},
   "outputs": [
    {
     "name": "stdout",
     "output_type": "stream",
     "text": [
      "initialization finished\n"
     ]
    }
   ],
   "source": [
    "e_lbp = Evaluator(data_obj=train_data,method_obj=lbp,load_as_slice=True)\n",
    "#e_lbp3d = Evaluator(data_obj=train_data,method_obj=lbp3d,load_as_slice=False)"
   ]
  },
  {
   "cell_type": "code",
   "execution_count": 11,
   "metadata": {},
   "outputs": [
    {
     "name": "stdout",
     "output_type": "stream",
     "text": [
      "Elapsed time: 0.4541006088256836\n",
      "(0.6857352941176472, 0.3026111018294003)\n"
     ]
    }
   ],
   "source": [
    "print(e_lbp.MAP(train_data.count,5,[\"ishealthy\"]))\n",
    "#print(e_lbp3d.MAP(train_data.count,5,[\"ishealthy\"]))\n",
    "#print(e_lbp.calcAuc(5,\"ishealthy\",True))\n",
    "#print(e_lbp3d.calcAuc(5,\"ishealthy\",True))"
   ]
  },
  {
   "cell_type": "code",
   "execution_count": 15,
   "metadata": {},
   "outputs": [
    {
     "name": "stdout",
     "output_type": "stream",
     "text": [
      "0\n",
      "1\n",
      "2\n",
      "3\n",
      "4\n",
      "5\n",
      "6\n",
      "7\n",
      "8\n",
      "9\n",
      "10\n",
      "11\n",
      "12\n",
      "[(0, 0.5), (1, 0.5), (2, 0.5), (3, 0.5), (4, 0.5), (5, 0.5), (6, 0.5), (7, 0.5), (8, 0.5), (9, 0.5), (10, 0.5), (11, 0.5), (12, 0.5)]\n",
      "0\n",
      "1\n",
      "2\n",
      "3\n",
      "4\n",
      "5\n",
      "6\n",
      "7\n",
      "8\n",
      "9\n",
      "10\n",
      "11\n",
      "12\n",
      "[(0, 0.5), (1, 0.5), (2, 0.5), (3, 0.5), (4, 0.5), (5, 0.5), (6, 0.5), (7, 0.5), (8, 0.5), (9, 0.5), (10, 0.5), (11, 0.5), (12, 0.5)]\n",
      "1\n",
      "1 1 0.5\n",
      "Elapsed time: 0.008237838745117188\n",
      "1\n",
      "1 1 0.5\n",
      "Elapsed time: 0.00968480110168457\n",
      "1\n",
      "1 1 0.5\n",
      "Elapsed time: 0.0054852962493896484\n",
      "1\n",
      "1 1 0.5\n",
      "Elapsed time: 0.005563020706176758\n"
     ]
    }
   ],
   "source": [
    "#haralicks_method = Haralicks(compute_dog=False)\n",
    "mid = round(train_data.scans[0].shape[2]/2)\n",
    "haralicks_method_selected = Haralicks(compute_dog=False)\n",
    "haralicks_method_selected.featureSelector(5,5,train_data.getScansAtSlice(mid),train_data.labels,\"ishealthy\",True)\n",
    "\n",
    "haralicks3d_method_selected = Haralicks(compute_dog=False)\n",
    "haralicks3d_method_selected.featureSelector(5,5,train_data.scans,train_data.labels,\"ishealthy\",True)\n",
    "\n",
    "#lbp_method = LBPFeatures(8,30)\n",
    "\n",
    "lbp_method_selected = LBPFeatures()\n",
    "lbp_method_selected.fit_parameters(5,train_data.getScansAtSlice(mid),train_data.labels,\"ishealthy\",True)\n",
    "\n",
    "#lbp3d_method = LBP3DFeatures([(8,30),(8,30),(8,30)])\n",
    "\n",
    "lbp3d_method_selected = LBP3DFeatures([(8,30),(8,30),(8,30)])\n",
    "lbp3d_method_selected.fit_parameters(5,train_data.scans,train_data.labels,\"ishealthy\",True)\n",
    "\n",
    "#ml_method = ConvolutionMethod(train_data,load_prev_model=False,input_size=train_data.count)\n",
    "\n",
    "models = [haralicks_method_selected,haralicks3d_method_selected,lbp_method_selected,lbp3d_method_selected]#,ml_method]\n",
    "with open(\"fitted_models\",'wb') as fp:   \n",
    "    pickle.dump(models,fp)      \n"
   ]
  },
  {
   "cell_type": "code",
   "execution_count": 16,
   "metadata": {},
   "outputs": [],
   "source": [
    "with open(\"fitted_models\",'rb') as fp:\n",
    "    haralicks_method_selected,haralicks3d_method_selected,lbp_method_selected,lbp3d_method_selected = pickle.load(fp)"
   ]
  },
  {
   "cell_type": "code",
   "execution_count": 26,
   "metadata": {},
   "outputs": [
    {
     "name": "stdout",
     "output_type": "stream",
     "text": [
      "Time usage: 0:00:00\n"
     ]
    }
   ],
   "source": [
    "ml_method = ConvolutionMethod(train_data,load_prev_model=False,input_size=2)"
   ]
  },
  {
   "cell_type": "code",
   "execution_count": 27,
   "metadata": {},
   "outputs": [
    {
     "name": "stdout",
     "output_type": "stream",
     "text": [
      "initialization finished\n",
      "initialization finished\n",
      "initialization finished\n",
      "initialization finished\n",
      "initialization finished\n"
     ]
    }
   ],
   "source": [
    "#e_haralicks = Evaluator(data_obj=test_data,method_obj=haralicks_method,load_as_slice=True)\n",
    "e_haralicks_selected = Evaluator(data_obj=test_data,method_obj=haralicks_method_selected,load_as_slice=True)\n",
    "e_haralicks3d_selected = Evaluator(data_obj=test_data,method_obj=haralicks3d_method_selected,load_as_slice=False)\n",
    "#e_lbp       = Evaluator(data_obj=test_data,method_obj=lbp_method,load_as_slice=True)\n",
    "e_lbp_selected       = Evaluator(data_obj=test_data,method_obj=lbp_method_selected,load_as_slice=True)\n",
    "#e_lbp3d       = Evaluator(data_obj=test_data,method_obj=lbp3d_method,load_as_slice=True)\n",
    "e_lbp3d_selected       = Evaluator(data_obj=test_data,method_obj=lbp3d_method_selected,load_as_slice=False)\n",
    "e_ML_shape  = Evaluator(data_obj=test_data,method_obj=ml_method,load_as_slice=True)"
   ]
  },
  {
   "cell_type": "code",
   "execution_count": 28,
   "metadata": {},
   "outputs": [
    {
     "name": "stdout",
     "output_type": "stream",
     "text": [
      "[0]\n",
      "[0]\n"
     ]
    },
    {
     "ename": "NameError",
     "evalue": "name 'lbp_selected' is not defined",
     "output_type": "error",
     "traceback": [
      "\u001b[0;31m---------------------------------------------------------------------------\u001b[0m",
      "\u001b[0;31mNameError\u001b[0m                                 Traceback (most recent call last)",
      "\u001b[0;32m<ipython-input-28-4f99d3ac8040>\u001b[0m in \u001b[0;36m<module>\u001b[0;34m\u001b[0m\n\u001b[1;32m      1\u001b[0m \u001b[0mprint\u001b[0m\u001b[0;34m(\u001b[0m\u001b[0mharalicks_method_selected\u001b[0m\u001b[0;34m.\u001b[0m\u001b[0mselected_features\u001b[0m\u001b[0;34m)\u001b[0m\u001b[0;34m\u001b[0m\u001b[0;34m\u001b[0m\u001b[0m\n\u001b[1;32m      2\u001b[0m \u001b[0mprint\u001b[0m\u001b[0;34m(\u001b[0m\u001b[0mharalicks3d_method_selected\u001b[0m\u001b[0;34m.\u001b[0m\u001b[0mselected_features\u001b[0m\u001b[0;34m)\u001b[0m\u001b[0;34m\u001b[0m\u001b[0;34m\u001b[0m\u001b[0m\n\u001b[0;32m----> 3\u001b[0;31m \u001b[0mprint\u001b[0m\u001b[0;34m(\u001b[0m\u001b[0mlbp_selected\u001b[0m\u001b[0;34m.\u001b[0m\u001b[0mradius\u001b[0m\u001b[0;34m,\u001b[0m\u001b[0mlbp_selected\u001b[0m\u001b[0;34m.\u001b[0m\u001b[0mn_points\u001b[0m\u001b[0;34m)\u001b[0m\u001b[0;34m\u001b[0m\u001b[0;34m\u001b[0m\u001b[0m\n\u001b[0m\u001b[1;32m      4\u001b[0m \u001b[0mprint\u001b[0m\u001b[0;34m(\u001b[0m\u001b[0mlbp3d_selected\u001b[0m\u001b[0;34m.\u001b[0m\u001b[0mlbp_xy\u001b[0m\u001b[0;34m.\u001b[0m\u001b[0mradius\u001b[0m\u001b[0;34m,\u001b[0m\u001b[0mlbp3d_selected\u001b[0m\u001b[0;34m.\u001b[0m\u001b[0mlbp_xy\u001b[0m\u001b[0;34m.\u001b[0m\u001b[0mn_points\u001b[0m\u001b[0;34m)\u001b[0m\u001b[0;34m\u001b[0m\u001b[0;34m\u001b[0m\u001b[0m\n\u001b[1;32m      5\u001b[0m \u001b[0mprint\u001b[0m\u001b[0;34m(\u001b[0m\u001b[0mlbp3d_selected\u001b[0m\u001b[0;34m.\u001b[0m\u001b[0mlbp_xz\u001b[0m\u001b[0;34m.\u001b[0m\u001b[0mradius\u001b[0m\u001b[0;34m,\u001b[0m\u001b[0mlbp3d_selected\u001b[0m\u001b[0;34m.\u001b[0m\u001b[0mlbp_xz\u001b[0m\u001b[0;34m.\u001b[0m\u001b[0mn_points\u001b[0m\u001b[0;34m)\u001b[0m\u001b[0;34m\u001b[0m\u001b[0;34m\u001b[0m\u001b[0m\n",
      "\u001b[0;31mNameError\u001b[0m: name 'lbp_selected' is not defined"
     ]
    }
   ],
   "source": [
    "print(haralicks_method_selected.selected_features)\n",
    "print(haralicks3d_method_selected.selected_features)\n",
    "print(lbp_selected.radius,lbp_selected.n_points)\n",
    "print(lbp3d_selected.lbp_xy.radius,lbp3d_selected.lbp_xy.n_points)\n",
    "print(lbp3d_selected.lbp_xz.radius,lbp3d_selected.lbp_xz.n_points)\n",
    "print(lbp3d_selected.lbp_yz.radius,lbp3d_selected.lbp_yz.n_points)"
   ]
  },
  {
   "cell_type": "code",
   "execution_count": null,
   "metadata": {},
   "outputs": [],
   "source": [
    "#print(e_haralicks.calcAuc(5,\"ishealthy\",True))\n",
    "print(e_haralicks_selected.calcAuc(5,\"shape\",\"triangle\"))\n",
    "print(e_haralicks3d_selected.calcAuc(5,\"shape\",\"triangle\"))\n",
    "#print(e_lbp.calcAuc(5,\"shape\",\"triangle\"))\n",
    "print(e_lbp_selected.calcAuc(5,\"shape\",\"triangle\"))\n",
    "print(e_lbp3d_selected.calcAuc(5,\"shape\",\"triangle\"))\n",
    "#print(e_ML_shape.calcAuc(5,\"shape\",\"triangle\"))\n",
    "#print(e_haralicks.MAP(test_data.count,5,[\"ishealthy\"]))\n",
    "#print(e_lbp.MAP(test_data.count,5,[\"ishealthy\"]))\n",
    "print(e_ml_shape.calcAuc(5,\"shape\",\"triangle\"))\n",
    "print(\"_______MAP___________\")\n",
    "print(e_haralicks_selected.MAP(test_data.count,5,[\"ishealthy\"]))\n",
    "print(e_haralicks3d_selected.MAP(test_data.count,5,[\"ishealthy\"]))\n",
    "print(e_lbp_selected.MAP(test_data.count,5,[\"ishealthy\"]))\n",
    "print(e_lbp3d_selected.MAP(test_data.count,5,[\"ishealthy\"]))\n",
    "print(e_ML_shape.MAP(test_data.count,5,[\"ishealthy\"]))"
   ]
  },
  {
   "cell_type": "code",
   "execution_count": null,
   "metadata": {},
   "outputs": [],
   "source": [
    "e_haralicks_selected.precisionRecall(5,\"ishealthy\",True)\n",
    "e_haralicks3d_selected.precisionRecall(5,\"ishealthy\",True)\n",
    "e_lbp_selected.precisionRecall(5,\"ishealthy\",True)\n",
    "e_lbp3d_selected.precisionRecall(5,\"ishealthy\",True)\n",
    "e_ML_shape.precisionRecall(5,\"ishealthy\",True)"
   ]
  },
  {
   "cell_type": "code",
   "execution_count": null,
   "metadata": {},
   "outputs": [],
   "source": []
  }
 ],
 "metadata": {
  "kernelspec": {
   "display_name": "Python [conda env:bach] *",
   "language": "python",
   "name": "conda-env-bach-py"
  },
  "language_info": {
   "codemirror_mode": {
    "name": "ipython",
    "version": 3
   },
   "file_extension": ".py",
   "mimetype": "text/x-python",
   "name": "python",
   "nbconvert_exporter": "python",
   "pygments_lexer": "ipython3",
   "version": "3.7.1"
  }
 },
 "nbformat": 4,
 "nbformat_minor": 2
}

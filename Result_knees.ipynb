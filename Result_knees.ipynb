{
 "cells": [
  {
   "cell_type": "code",
   "execution_count": 1,
   "metadata": {},
   "outputs": [
    {
     "name": "stderr",
     "output_type": "stream",
     "text": [
      "Using TensorFlow backend.\n"
     ]
    }
   ],
   "source": [
    "#import numpy as np\n",
    "#import matplotlib.pyplot as plt\n",
    "#import cProfile\n",
    "#import mahotas\n",
    "#import itk\n",
    "#import skimage.feature as ft\n",
    "\n",
    "#own libraries inside lib/ \n",
    "from lib.evaluator import *\n",
    "from lib.features import *\n",
    "from lib.shapes import *\n",
    "#from lib.kneedata import *\n",
    "from lib.plot import *\n",
    "from lib.MLMethod import *\n",
    "from lib.NaiveFeatures import *\n",
    "from lib.features import *\n",
    "import matplotlib.pyplot as plt\n",
    "import pickle\n",
    "from lib.vggModel import *\n",
    "from lib.mrnetdata import *"
   ]
  },
  {
   "cell_type": "code",
   "execution_count": 2,
   "metadata": {},
   "outputs": [],
   "source": [
    "d=KneeData()\n",
    "d.loadData(from_original_files=True,pickled_db_path=\"pickled/erik_train.pck\",path='/home/dawit/Datalogi/BachelorProjekt/data/erik/train_data/')\n",
    "d2=KneeData()\n",
    "d2.loadData(from_original_files=True,pickled_db_path=\"pickled/erik_train.pck\",path='/home/dawit/Datalogi/BachelorProjekt/data/erik/test_data/')\n",
    "#scans = d.getScansAtSlice(three_slices=True)"
   ]
  },
  {
   "cell_type": "code",
   "execution_count": 2,
   "metadata": {},
   "outputs": [],
   "source": [
    "\n",
    "simple = SimpleShapeData()"
   ]
  },
  {
   "cell_type": "code",
   "execution_count": 8,
   "metadata": {},
   "outputs": [],
   "source": [
    "simple.scans = simple.scans_train\n",
    "simple.labels = simple.labels_train"
   ]
  },
  {
   "cell_type": "code",
   "execution_count": 3,
   "metadata": {},
   "outputs": [
    {
     "name": "stdout",
     "output_type": "stream",
     "text": [
      "(1, 1) 0.18359375\n",
      "(2, 1) 1.0\n",
      "[((2, 1), 1.0), ((1, 1), 0.18359375)]\n",
      "finished LBP fitting 1 2 1.0\n",
      "Elapsed time: 0.19718313217163086\n"
     ]
    }
   ],
   "source": [
    "#with open(\"pickled/mrnet_\"+\"abnormal\"+\"_test.pck\",'rb') as fp:   \n",
    "#    mrnet = pickle.load(fp)                         \n",
    "h = LBPFeatures(1,1)\n",
    "h.fit_parameters(8,simple.scans,simple.labels,\"shape\",\"triangle\",radius_max=15,multiple_max=10)"
   ]
  },
  {
   "cell_type": "code",
   "execution_count": 9,
   "metadata": {},
   "outputs": [
    {
     "name": "stdout",
     "output_type": "stream",
     "text": [
      "initialization finished\n"
     ]
    }
   ],
   "source": [
    "#h.selected_features = [1]\n",
    "#simple.scans = simple.scans_train\n",
    "#simple.labels= simple.labels_train\n",
    "e = Evaluator(data_obj=simple,method_obj=h,load_as_slice=False,three_slices=False)\n",
    "#simple = SimpleShapeData()\n",
    "#print(simple.scans.shape)"
   ]
  },
  {
   "cell_type": "code",
   "execution_count": 10,
   "metadata": {},
   "outputs": [
    {
     "data": {
      "text/plain": [
       "1.0"
      ]
     },
     "execution_count": 10,
     "metadata": {},
     "output_type": "execute_result"
    }
   ],
   "source": [
    "e.calcAuc(8,\"shape\",\"triangle\")"
   ]
  },
  {
   "cell_type": "code",
   "execution_count": 14,
   "metadata": {},
   "outputs": [
    {
     "data": {
      "text/plain": [
       "array([0.375, 0.375, 0.375, 0.375, 0.375, 0.375, 0.375, 0.375, 0.125,\n",
       "       0.125, 0.125, 0.125, 0.125, 0.125, 0.125, 0.125, 0.125, 0.125,\n",
       "       0.125, 0.125, 0.125, 0.125, 0.125, 0.125])"
      ]
     },
     "execution_count": 14,
     "metadata": {},
     "output_type": "execute_result"
    }
   ],
   "source": [
    "e.probabilities"
   ]
  },
  {
   "cell_type": "code",
   "execution_count": 44,
   "metadata": {},
   "outputs": [],
   "source": [
    "indices,dist = e.query(0,9)"
   ]
  },
  {
   "cell_type": "code",
   "execution_count": 45,
   "metadata": {},
   "outputs": [
    {
     "name": "stdout",
     "output_type": "stream",
     "text": [
      "{'shape': 'triangle', 'offset': 'top-left', 'noise': 0.05}\n",
      "{'shape': 'triangle', 'offset': 'bottom-left', 'noise': 0.05}\n",
      "{'shape': 'triangle', 'offset': 'top-right', 'noise': 0.05}\n",
      "{'shape': 'triangle', 'offset': 'bottom-right', 'noise': 0.05}\n",
      "{'shape': 'square', 'offset': 'top-left', 'noise': 0.05}\n",
      "{'shape': 'square', 'offset': 'bottom-left', 'noise': 0.05}\n",
      "{'shape': 'square', 'offset': 'top-right', 'noise': 0.05}\n",
      "{'shape': 'square', 'offset': 'bottom-right', 'noise': 0.05}\n",
      "{'shape': 'circle', 'offset': 'top-left', 'noise': 0.05}\n",
      "0.375\n"
     ]
    }
   ],
   "source": [
    "#indices,dist= e.query(8,9)\n",
    "p = -1\n",
    "#n = 0\n",
    "for i in indices:\n",
    "    \n",
    "    if (e.labels[i][\"shape\"] == \"triangle\") == (e.labels[indices[0]][\"shape\"]== \"triangle\"):\n",
    "   #     print(\"hit\")       \n",
    "        p += 1\n",
    "#    else:\n",
    "#        n += 1\n",
    "    print(e.labels[i])\n",
    "print(p/len(indices[1:]))\n",
    "#e.calcAuc(12,\"value\",True)\n",
    "#print(len(e.labels))"
   ]
  },
  {
   "cell_type": "code",
   "execution_count": 27,
   "metadata": {},
   "outputs": [
    {
     "data": {
      "text/plain": [
       "0.125"
      ]
     },
     "execution_count": 27,
     "metadata": {},
     "output_type": "execute_result"
    }
   ],
   "source": [
    "label_value = \"triangle\"\n",
    "e.countClassificationRatio(indices[1:],\"shape\",e.labels[0][\"shape\"]==label_value,label_value)\n",
    "#.calcClassificationProbabilities(25,\"value\",True)\n",
    "#h.featureSelector(5,12,simple.scans,simple.labels,\"shape\",\"triangle\")\n",
    "#self.haralicks.featureSelector(5,k,slices,train_data.labels,label_name,label_value)       #5"
   ]
  },
  {
   "cell_type": "code",
   "execution_count": 25,
   "metadata": {},
   "outputs": [
    {
     "data": {
      "text/plain": [
       "0.0"
      ]
     },
     "execution_count": 25,
     "metadata": {},
     "output_type": "execute_result"
    }
   ],
   "source": [
    "#e = Evaluator(data_obj=simple,method_obj=h,load_as_slice=False,three_slices=False)\n",
    "#indices,dist=e.query(1,12)\n",
    "e.calcAuc(12,\"shape\",\"triangle\")\n",
    "#len(mrnet.scans)\n",
    "#len(e.scans)"
   ]
  },
  {
   "cell_type": "code",
   "execution_count": 32,
   "metadata": {},
   "outputs": [],
   "source": [
    "indices,dist=e.query(2,13)"
   ]
  },
  {
   "cell_type": "code",
   "execution_count": 33,
   "metadata": {},
   "outputs": [
    {
     "name": "stdout",
     "output_type": "stream",
     "text": [
      "{'shape': 'triangle', 'offset': 'top-left', 'noise': 0.05}\n",
      "{'shape': 'triangle', 'offset': 'bottom-left', 'noise': 0.05}\n",
      "{'shape': 'triangle', 'offset': 'top-right', 'noise': 0.05}\n",
      "{'shape': 'triangle', 'offset': 'bottom-right', 'noise': 0.05}\n",
      "{'shape': 'circle', 'offset': 'top-left', 'noise': 0.05}\n",
      "{'shape': 'circle', 'offset': 'bottom-left', 'noise': 0.05}\n",
      "{'shape': 'circle', 'offset': 'top-right', 'noise': 0.05}\n",
      "{'shape': 'circle', 'offset': 'bottom-right', 'noise': 0.05}\n",
      "{'shape': 'square', 'offset': 'top-left', 'noise': 0.05}\n",
      "{'shape': 'square', 'offset': 'bottom-left', 'noise': 0.05}\n",
      "{'shape': 'square', 'offset': 'top-right', 'noise': 0.05}\n",
      "{'shape': 'square', 'offset': 'bottom-right', 'noise': 0.05}\n",
      "{'shape': 'triangle', 'offset': 'bottom-right', 'noise': 0.15}\n"
     ]
    }
   ],
   "source": [
    "for i in indices:\n",
    "    print(e.labels[i])"
   ]
  },
  {
   "cell_type": "code",
   "execution_count": 16,
   "metadata": {},
   "outputs": [],
   "source": [
    "#v = VGG16(include_top=True,weights=\"imagenet\")\n",
    "#v.summary()\n"
   ]
  },
  {
   "cell_type": "code",
   "execution_count": 17,
   "metadata": {},
   "outputs": [],
   "source": [
    "#from keras.applications.vgg16 import VGG16\n",
    "#model = VGGModel()#LBP3DFeatures([[1,1],[1,1],[1,1]])#VGGModel()#VGG16(include_top=False,weights=\"imagenet\",)\n",
    "#model = Haralicks(compute_dog=False)\n",
    "#img_path = 'elephant.jpg'\n",
    "#img = image.load_img(img_path, target_size=(224, 224))\n",
    "#x = image.img_to_array(img)\n",
    "#x = np.expand_dims(x, axis=0)\n",
    "#x = preprocess_input(x)\n",
    "#model.model.summary()\n",
    "    \n",
    "#model.featureSelector(5,8,scans,d.labels,\"ishealthy\",True)\n",
    "#histo = model.fit(mrnet_train.getScansAtSlice(three_slices=True),mrnet_train.labels,\"value\",True)\n",
    "#histo = model.fit(d.getScansAtSlice(three_slices=True),d.labels,\"ishealthy\",True)\n",
    "#histo = model.fit(simple.scans_train,simple.labels_train,\"shape\",\"triangle\")\n",
    "#model.model.summary()"
   ]
  },
  {
   "cell_type": "code",
   "execution_count": 11,
   "metadata": {},
   "outputs": [
    {
     "data": {
      "image/png": "[encoded data removed]",
      "text/plain": [
       "<Figure size 432x288 with 1 Axes>"
      ]
     },
     "metadata": {
      "needs_background": "light"
     },
     "output_type": "display_data"
    },
    {
     "name": "stdout",
     "output_type": "stream",
     "text": [
      "[0.4, 0.6, 0.5, 0.5, 0.3, 0.6, 0.6, 0.5, 0.6, 0.3, 1.0, 0.4, 0.2, 0.7, 0.4, 0.3, 0.3, 0.6, 0.5, 0.6, 0.5, 0.3, 0.3, 0.5, 0.5, 0.5, 0.6, 0.6, 0.6, 0.6]\n"
     ]
    }
   ],
   "source": [
    "import matplotlib.pyplot as plt\n",
    "plt.plot(histo.accuracy)\n",
    "plt.show()\n",
    "print(histo.accuracy)"
   ]
  },
  {
   "cell_type": "code",
   "execution_count": 7,
   "metadata": {},
   "outputs": [
    {
     "ename": "NameError",
     "evalue": "name 'd' is not defined",
     "output_type": "error",
     "traceback": [
      "\u001b[0;31m---------------------------------------------------------------------------\u001b[0m",
      "\u001b[0;31mNameError\u001b[0m                                 Traceback (most recent call last)",
      "\u001b[0;32m<ipython-input-7-5f630ac70820>\u001b[0m in \u001b[0;36m<module>\u001b[0;34m\u001b[0m\n\u001b[0;32m----> 1\u001b[0;31m \u001b[0me\u001b[0m \u001b[0;34m=\u001b[0m \u001b[0mEvaluator\u001b[0m\u001b[0;34m(\u001b[0m\u001b[0mdata_obj\u001b[0m\u001b[0;34m=\u001b[0m\u001b[0md\u001b[0m\u001b[0;34m,\u001b[0m\u001b[0mmethod_obj\u001b[0m\u001b[0;34m=\u001b[0m\u001b[0mmodel\u001b[0m\u001b[0;34m,\u001b[0m\u001b[0mload_as_slice\u001b[0m\u001b[0;34m=\u001b[0m\u001b[0;32mTrue\u001b[0m\u001b[0;34m,\u001b[0m\u001b[0mthree_slices\u001b[0m\u001b[0;34m=\u001b[0m\u001b[0;32mTrue\u001b[0m\u001b[0;34m)\u001b[0m\u001b[0;34m\u001b[0m\u001b[0;34m\u001b[0m\u001b[0m\n\u001b[0m",
      "\u001b[0;31mNameError\u001b[0m: name 'd' is not defined"
     ]
    }
   ],
   "source": [
    "e = Evaluator(data_obj=d,method_obj=model,load_as_slice=True,three_slices=True)"
   ]
  },
  {
   "cell_type": "code",
   "execution_count": 2,
   "metadata": {},
   "outputs": [
    {
     "ename": "NameError",
     "evalue": "name 'e' is not defined",
     "output_type": "error",
     "traceback": [
      "\u001b[0;31m---------------------------------------------------------------------------\u001b[0m",
      "\u001b[0;31mNameError\u001b[0m                                 Traceback (most recent call last)",
      "\u001b[0;32m<ipython-input-2-514658b93e6f>\u001b[0m in \u001b[0;36m<module>\u001b[0;34m\u001b[0m\n\u001b[0;32m----> 1\u001b[0;31m \u001b[0mprint\u001b[0m\u001b[0;34m(\u001b[0m\u001b[0me\u001b[0m\u001b[0;34m.\u001b[0m\u001b[0mcalcAuc\u001b[0m\u001b[0;34m(\u001b[0m\u001b[0;36m8\u001b[0m\u001b[0;34m,\u001b[0m\u001b[0;34m\"ishealthy\"\u001b[0m\u001b[0;34m,\u001b[0m\u001b[0;32mTrue\u001b[0m\u001b[0;34m)\u001b[0m\u001b[0;34m)\u001b[0m\u001b[0;34m\u001b[0m\u001b[0;34m\u001b[0m\u001b[0m\n\u001b[0m\u001b[1;32m      2\u001b[0m \u001b[0mprint\u001b[0m\u001b[0;34m(\u001b[0m\u001b[0me\u001b[0m\u001b[0;34m.\u001b[0m\u001b[0mprobabilities\u001b[0m\u001b[0;34m)\u001b[0m\u001b[0;34m\u001b[0m\u001b[0;34m\u001b[0m\u001b[0m\n\u001b[1;32m      3\u001b[0m \u001b[0;31m#print(e.labels)\u001b[0m\u001b[0;34m\u001b[0m\u001b[0;34m\u001b[0m\u001b[0;34m\u001b[0m\u001b[0m\n\u001b[1;32m      4\u001b[0m \u001b[0;32mfor\u001b[0m \u001b[0mindex\u001b[0m\u001b[0;34m,\u001b[0m\u001b[0mi\u001b[0m \u001b[0;32min\u001b[0m \u001b[0menumerate\u001b[0m\u001b[0;34m(\u001b[0m\u001b[0me\u001b[0m\u001b[0;34m.\u001b[0m\u001b[0mlabels\u001b[0m\u001b[0;34m)\u001b[0m\u001b[0;34m:\u001b[0m\u001b[0;34m\u001b[0m\u001b[0;34m\u001b[0m\u001b[0m\n\u001b[1;32m      5\u001b[0m     \u001b[0mprint\u001b[0m\u001b[0;34m(\u001b[0m\u001b[0mindex\u001b[0m\u001b[0;34m,\u001b[0m\u001b[0mi\u001b[0m\u001b[0;34m)\u001b[0m\u001b[0;34m\u001b[0m\u001b[0;34m\u001b[0m\u001b[0m\n",
      "\u001b[0;31mNameError\u001b[0m: name 'e' is not defined"
     ]
    }
   ],
   "source": [
    "print(e.calcAuc(8,\"ishealthy\",True))\n",
    "print(e.probabilities)\n",
    "#print(e.labels)\n",
    "for index,i in enumerate(e.labels):\n",
    "    print(index,i)\n",
    "\n",
    "#m = VGGModel()\n",
    "#m.model.summary()\n",
    "#n = VGGModel()\n",
    "#n.model.summary()"
   ]
  },
  {
   "cell_type": "code",
   "execution_count": 22,
   "metadata": {},
   "outputs": [
    {
     "data": {
      "text/plain": [
       "0.25"
      ]
     },
     "execution_count": 22,
     "metadata": {},
     "output_type": "execute_result"
    }
   ],
   "source": [
    "#def countClassificationRatio(self,label_indices,label_name,is_positive,label_value):\n",
    "e.countClassificationRatio(indices[1:],\"ishealthy\",False,True)"
   ]
  },
  {
   "cell_type": "code",
   "execution_count": 7,
   "metadata": {},
   "outputs": [
    {
     "data": {
      "text/plain": [
       "21.628978729248047"
      ]
     },
     "execution_count": 7,
     "metadata": {},
     "output_type": "execute_result"
    }
   ],
   "source": [
    "a = model.extractFeatures(simple.scans[0])\n",
    "b = model.extractFeatures(simple.scans[8])\n",
    "model.distance(a,b)"
   ]
  },
  {
   "cell_type": "code",
   "execution_count": 13,
   "metadata": {},
   "outputs": [
    {
     "name": "stdout",
     "output_type": "stream",
     "text": [
      "[10, 40, 50, 7, 13, 55, 15, 53, 4]\n",
      "[0.0, 3.642783933665531e-05, 5.569864555560666e-05, 6.464931999770711e-05, 6.757232227558351e-05, 7.787558610436885e-05, 7.93163629063693e-05, 8.095402462127621e-05, 9.051217112125351e-05]\n",
      "0.0\n",
      "{'ishealthy': False, 'isright': True, 'age': 70}\n",
      "3.642783933665531e-05\n",
      "{'ishealthy': True, 'isright': False, 'age': 43}\n",
      "5.569864555560666e-05\n",
      "{'ishealthy': False, 'isright': True, 'age': 74}\n",
      "6.464931999770711e-05\n",
      "{'ishealthy': True, 'isright': True, 'age': 24}\n",
      "6.757232227558351e-05\n",
      "{'ishealthy': False, 'isright': True, 'age': 69}\n",
      "7.787558610436885e-05\n",
      "{'ishealthy': True, 'isright': True, 'age': 43}\n",
      "7.93163629063693e-05\n",
      "{'ishealthy': True, 'isright': False, 'age': 36}\n",
      "8.095402462127621e-05\n",
      "{'ishealthy': False, 'isright': True, 'age': 71}\n",
      "9.051217112125351e-05\n",
      "{'ishealthy': True, 'isright': False, 'age': 57}\n"
     ]
    }
   ],
   "source": [
    "indices,dist = e.query(10,9)\n",
    "print(indices)\n",
    "print(dist)\n",
    "for ind,i in enumerate(indices):\n",
    "    print(dist[ind])\n",
    "    print(e.labels[i])\n",
    "#model.model.summary()\n",
    "#model.model.get_layer('dense_1')"
   ]
  },
  {
   "cell_type": "code",
   "execution_count": 5,
   "metadata": {},
   "outputs": [],
   "source": [
    "d=KneeData()\n",
    "d.loadData(from_original_files=True,pickled_db_path=\"pickled/erik_train.pck\",path='/home/dawit/Datalogi/BachelorProjekt/data/erik/train_data/')\n",
    "scans = d.getScansAtSlice(three_slices=True)"
   ]
  },
  {
   "cell_type": "code",
   "execution_count": 7,
   "metadata": {},
   "outputs": [
    {
     "name": "stdout",
     "output_type": "stream",
     "text": [
      "0.0\n"
     ]
    }
   ],
   "source": [
    "sum_v = 0\n",
    "a = model.extractFeatures(simple.scans[0])\n",
    "for i in range(1,20):\n",
    "    b = model.extractFeatures(simple.scans[i])\n",
    "    temp = model.distance(a,b)\n",
    "    sum_v+= temp\n",
    "    if temp!=0:\n",
    "        print(i,temp)\n",
    "    a = b\n",
    "b = model.extractFeatures(simple.scans[20])\n",
    "print(sum_v)\n",
    "#print(a.shape)\n",
    "#b = a[:]\n",
    "#b[0,0] = b[0,0] +1100000\n",
    "#print(model.distance(a[0],b[0]))\n",
    "#print(a)\n",
    "#print(b)"
   ]
  },
  {
   "cell_type": "code",
   "execution_count": 8,
   "metadata": {},
   "outputs": [
    {
     "name": "stdout",
     "output_type": "stream",
     "text": [
      "[[0. 1. 0. 0. 0. 0. 0. 0. 0. 0.]]\n",
      "[[0. 1. 0. 0. 0. 0. 0. 0. 0. 0.]]\n"
     ]
    }
   ],
   "source": [
    "a = model.extractFeatures(simple.scans[0])\n",
    "b = model.extractFeatures(simple.scans[1])\n",
    "#print(model.distance(a,b))\n",
    "print(a)\n",
    "print(b)\n"
   ]
  },
  {
   "cell_type": "code",
   "execution_count": 8,
   "metadata": {},
   "outputs": [
    {
     "name": "stdout",
     "output_type": "stream",
     "text": [
      "[[1, 6], (1, 1)]\n",
      "[[3], (3, 9), [3], (3, 9, 1, 1, 9, 45)]\n",
      "[[3], (9, 72), [5, 8], (9, 72, 4, 32, 9, 63)]\n",
      "[[9], (8, 72), [11, 4], (8, 72, 4, 28, 6, 48)]\n",
      "[[3], (1, 4), [5, 8, 2], (1, 4, 6, 30, 11, 99)]\n"
     ]
    }
   ],
   "source": [
    "#haralicks, lbp, haralicks3d, lbp3d\n",
    "#[[1, 6], (1, 1)]\n",
    "#[[3], (3, 9), [3], (3, 9, 1, 1, 9, 45)]\n",
    "#[[3], (9, 72), [5, 8], (9, 72, 4, 32, 9, 63)]\n",
    "#[[9], (8, 72), [11, 4], (8, 72, 4, 28, 6, 48)]\n",
    "#[[3], (1, 4), [5, 8, 2], (1, 4, 6, 30, 11, 99)]\n",
    "#[\"toy_data\",\"erik\",\"mrnet_abnormal\",\"mrnet_meniscus\",\"mrnet_acl\"]\n",
    "base = \"pickled/save_results/fitted_methods_\"\n",
    "end = \"_train.pck\"\n",
    "datasets = [\"toy_data\",\"erik\",\"mrnet_abnormal\",\"mrnet_meniscus\",\"mrnet_acl\"]\n",
    "datasets = [d+end if d != \"toy_data\" else d+\".pck\" for d in datasets]\n",
    "for d in datasets:\n",
    "    with open(base+d,'rb') as fp:   \n",
    "        fitted =pickle.load(fp)         \n",
    "        print(fitted)"
   ]
  },
  {
   "cell_type": "code",
   "execution_count": 2,
   "metadata": {},
   "outputs": [
    {
     "data": {
      "text/plain": [
       "{'a': 1, 'b': 2}"
      ]
     },
     "execution_count": 2,
     "metadata": {},
     "output_type": "execute_result"
    }
   ],
   "source": [
    "a = {\"a\":1}\n",
    "b = {\"b\":2}\n",
    "dict(a,**b)"
   ]
  },
  {
   "cell_type": "code",
   "execution_count": 2,
   "metadata": {},
   "outputs": [
    {
     "name": "stdout",
     "output_type": "stream",
     "text": [
      "[(8, 0.74822695035461), (4, 0.7168186423505573), (2, 0.7077001013171227), (11, 0.7041540020263426), (1, 0.6935157041540021), (10, 0.6762917933130699), (12, 0.6732522796352584), (5, 0.5374873353596759), (9, 0.5288753799392096), (3, 0.5212765957446809), (6, 0.5136778115501519), (7, 0.5040526849037487), (0, 0.49341438703140833)]\n",
      "[(10, 0.8338399189463019), (2, 0.7619047619047619), (11, 0.7522796352583587), (9, 0.74822695035461), (12, 0.74822695035461), (0, 0.7431610942249239), (4, 0.7416413373860182), (7, 0.7147922998986829), (1, 0.6935157041540021), (5, 0.5952380952380952), (3, 0.5212765957446809), (6, 0.5136778115501519)]\n",
      "[(0, 0.8338399189463019), (4, 0.8338399189463019), (9, 0.8338399189463019), (12, 0.8338399189463019), (2, 0.8297872340425532), (11, 0.8171225937183384), (7, 0.7781155015197568), (1, 0.6935157041540021), (5, 0.6058763931104357), (3, 0.5212765957446809), (6, 0.5136778115501519)]\n",
      "[(4, 0.8338399189463019), (9, 0.8338399189463019), (12, 0.8338399189463019), (2, 0.8297872340425532), (11, 0.8171225937183384), (7, 0.7781155015197568), (1, 0.6935157041540021), (5, 0.6058763931104357), (3, 0.5212765957446809), (6, 0.5136778115501519)]\n",
      "[(9, 0.8338399189463019), (12, 0.8338399189463019), (2, 0.8257345491388045), (11, 0.8059777102330293), (7, 0.7781155015197568), (1, 0.6935157041540021), (5, 0.6058763931104357), (3, 0.5212765957446809), (6, 0.5136778115501519)]\n",
      "[8, 10, 0, 4, 9]\n",
      "finished Haralick Feature selection\n"
     ]
    }
   ],
   "source": [
    "d=KneeData()\n",
    "d.loadData(from_original_files=True,pickled_db_path=\"pickled/erik_train.pck\",path='/home/dawit/Datalogi/BachelorProjekt/data/erik/train_data/')\n",
    "haralicks = Haralicks(compute_dog=False)\n",
    "haralicks.featureSelector(5,15,d.getScansAtSlice(),d.labels,\"ishealthy\",True)       #5"
   ]
  },
  {
   "cell_type": "code",
   "execution_count": 5,
   "metadata": {},
   "outputs": [],
   "source": [
    "#full_data = KneeData()\n",
    "#full_data.loadData(from_original_files=True,pickled_db_path=\"scans_and_labels_full.pck\",path='/home/dawit/Datalogi/BachelorProjekt/data/full_data/')\n",
    "\n",
    "train_data = KneeData()\n",
    "train_data.loadData(from_original_files=True,pickled_db_path=\"scans_and_labels_train.pck\",path='/home/dawit/Datalogi/BachelorProjekt/data/erik/train_data/')\n",
    "#train_data.prepareTrainingData()\n",
    "\n",
    "#test_data = KneeData()\n",
    "#test_data.loadData(from_original_files=True,pickled_db_path=\"scans_and_labels_test.pck\",path='/home/dawit/Datalogi/BachelorProjekt/data/test_data/')"
   ]
  },
  {
   "cell_type": "code",
   "execution_count": 6,
   "metadata": {},
   "outputs": [
    {
     "name": "stdout",
     "output_type": "stream",
     "text": [
      "104\n",
      "122\n"
     ]
    }
   ],
   "source": [
    "count_t = 0\n",
    "count_f = 0\n",
    "depth = [i.shape[2] for i in train_data.scans]\n",
    "print(min(depth)) #104\n",
    "print(max(depth)) #114\n",
    "#for i in train_data.scans:\n",
    "#    print\n",
    "#    val = train_data.name_label[i]\n",
    "#    if val:\n",
    "#        count_t += 1\n",
    "#    else:\n",
    "#        count_f += 1\n",
    "#    print(i,val)\n",
    "#print(count_t,count_f)\n",
    "#lbp = LBPFeatures(8,30)\n",
    "#lbp3d= LBP3DFeatures([(8,30),(8,30),(8,30)])"
   ]
  },
  {
   "cell_type": "code",
   "execution_count": 7,
   "metadata": {},
   "outputs": [],
   "source": [
    "#lbp3d.fit_parameters(5,train_data.scans,train_data.labels,\"ishealthy\",True,2,2)"
   ]
  },
  {
   "cell_type": "code",
   "execution_count": 8,
   "metadata": {},
   "outputs": [],
   "source": [
    "#test_data.scans[0].shape"
   ]
  },
  {
   "cell_type": "code",
   "execution_count": 9,
   "metadata": {},
   "outputs": [],
   "source": [
    "#lbp.fit_parameters(5,train_data.getScansAtSlice(40)[:5],train_data.labels,\"ishealthy\",True)\n",
    "#lbp3d.fit_parameters(5,train_data.scans,train_data.labels,\"ishealthy\",True,10,10)\n",
    "#lbp3d.extractFeatures(train_data.scans[0],None,None)"
   ]
  },
  {
   "cell_type": "code",
   "execution_count": 10,
   "metadata": {},
   "outputs": [
    {
     "name": "stdout",
     "output_type": "stream",
     "text": [
      "initialization finished\n"
     ]
    }
   ],
   "source": [
    "e_lbp = Evaluator(data_obj=train_data,method_obj=lbp,load_as_slice=True)\n",
    "#e_lbp3d = Evaluator(data_obj=train_data,method_obj=lbp3d,load_as_slice=False)"
   ]
  },
  {
   "cell_type": "code",
   "execution_count": 11,
   "metadata": {},
   "outputs": [
    {
     "name": "stdout",
     "output_type": "stream",
     "text": [
      "Elapsed time: 0.4541006088256836\n",
      "(0.6857352941176472, 0.3026111018294003)\n"
     ]
    }
   ],
   "source": [
    "print(e_lbp.MAP(train_data.count,5,[\"ishealthy\"]))\n",
    "#print(e_lbp3d.MAP(train_data.count,5,[\"ishealthy\"]))\n",
    "#print(e_lbp.calcAuc(5,\"ishealthy\",True))\n",
    "#print(e_lbp3d.calcAuc(5,\"ishealthy\",True))"
   ]
  },
  {
   "cell_type": "code",
   "execution_count": 15,
   "metadata": {},
   "outputs": [
    {
     "name": "stdout",
     "output_type": "stream",
     "text": [
      "0\n",
      "1\n",
      "2\n",
      "3\n",
      "4\n",
      "5\n",
      "6\n",
      "7\n",
      "8\n",
      "9\n",
      "10\n",
      "11\n",
      "12\n",
      "[(0, 0.5), (1, 0.5), (2, 0.5), (3, 0.5), (4, 0.5), (5, 0.5), (6, 0.5), (7, 0.5), (8, 0.5), (9, 0.5), (10, 0.5), (11, 0.5), (12, 0.5)]\n",
      "0\n",
      "1\n",
      "2\n",
      "3\n",
      "4\n",
      "5\n",
      "6\n",
      "7\n",
      "8\n",
      "9\n",
      "10\n",
      "11\n",
      "12\n",
      "[(0, 0.5), (1, 0.5), (2, 0.5), (3, 0.5), (4, 0.5), (5, 0.5), (6, 0.5), (7, 0.5), (8, 0.5), (9, 0.5), (10, 0.5), (11, 0.5), (12, 0.5)]\n",
      "1\n",
      "1 1 0.5\n",
      "Elapsed time: 0.008237838745117188\n",
      "1\n",
      "1 1 0.5\n",
      "Elapsed time: 0.00968480110168457\n",
      "1\n",
      "1 1 0.5\n",
      "Elapsed time: 0.0054852962493896484\n",
      "1\n",
      "1 1 0.5\n",
      "Elapsed time: 0.005563020706176758\n"
     ]
    }
   ],
   "source": [
    "#haralicks_method = Haralicks(compute_dog=False)\n",
    "mid = round(train_data.scans[0].shape[2]/2)\n",
    "haralicks_method_selected = Haralicks(compute_dog=False)\n",
    "haralicks_method_selected.featureSelector(5,5,train_data.getScansAtSlice(mid),train_data.labels,\"ishealthy\",True)\n",
    "\n",
    "haralicks3d_method_selected = Haralicks(compute_dog=False)\n",
    "haralicks3d_method_selected.featureSelector(5,5,train_data.scans,train_data.labels,\"ishealthy\",True)\n",
    "\n",
    "#lbp_method = LBPFeatures(8,30)\n",
    "\n",
    "lbp_method_selected = LBPFeatures()\n",
    "lbp_method_selected.fit_parameters(5,train_data.getScansAtSlice(mid),train_data.labels,\"ishealthy\",True)\n",
    "\n",
    "#lbp3d_method = LBP3DFeatures([(8,30),(8,30),(8,30)])\n",
    "\n",
    "lbp3d_method_selected = LBP3DFeatures([(8,30),(8,30),(8,30)])\n",
    "lbp3d_method_selected.fit_parameters(5,train_data.scans,train_data.labels,\"ishealthy\",True)\n",
    "\n",
    "#ml_method = ConvolutionMethod(train_data,load_prev_model=False,input_size=train_data.count)\n",
    "\n",
    "models = [haralicks_method_selected,haralicks3d_method_selected,lbp_method_selected,lbp3d_method_selected]#,ml_method]\n",
    "with open(\"fitted_models\",'wb') as fp:   \n",
    "    pickle.dump(models,fp)      \n"
   ]
  },
  {
   "cell_type": "code",
   "execution_count": 16,
   "metadata": {},
   "outputs": [],
   "source": [
    "with open(\"fitted_models\",'rb') as fp:\n",
    "    haralicks_method_selected,haralicks3d_method_selected,lbp_method_selected,lbp3d_method_selected = pickle.load(fp)"
   ]
  },
  {
   "cell_type": "code",
   "execution_count": 26,
   "metadata": {},
   "outputs": [
    {
     "name": "stdout",
     "output_type": "stream",
     "text": [
      "Time usage: 0:00:00\n"
     ]
    }
   ],
   "source": [
    "ml_method = ConvolutionMethod(train_data,load_prev_model=False,input_size=2)"
   ]
  },
  {
   "cell_type": "code",
   "execution_count": 27,
   "metadata": {},
   "outputs": [
    {
     "name": "stdout",
     "output_type": "stream",
     "text": [
      "initialization finished\n",
      "initialization finished\n",
      "initialization finished\n",
      "initialization finished\n",
      "initialization finished\n"
     ]
    }
   ],
   "source": [
    "#e_haralicks = Evaluator(data_obj=test_data,method_obj=haralicks_method,load_as_slice=True)\n",
    "e_haralicks_selected = Evaluator(data_obj=test_data,method_obj=haralicks_method_selected,load_as_slice=True)\n",
    "e_haralicks3d_selected = Evaluator(data_obj=test_data,method_obj=haralicks3d_method_selected,load_as_slice=False)\n",
    "#e_lbp       = Evaluator(data_obj=test_data,method_obj=lbp_method,load_as_slice=True)\n",
    "e_lbp_selected       = Evaluator(data_obj=test_data,method_obj=lbp_method_selected,load_as_slice=True)\n",
    "#e_lbp3d       = Evaluator(data_obj=test_data,method_obj=lbp3d_method,load_as_slice=True)\n",
    "e_lbp3d_selected       = Evaluator(data_obj=test_data,method_obj=lbp3d_method_selected,load_as_slice=False)\n",
    "e_ML_shape  = Evaluator(data_obj=test_data,method_obj=ml_method,load_as_slice=True)"
   ]
  },
  {
   "cell_type": "code",
   "execution_count": 28,
   "metadata": {},
   "outputs": [
    {
     "name": "stdout",
     "output_type": "stream",
     "text": [
      "[0]\n",
      "[0]\n"
     ]
    },
    {
     "ename": "NameError",
     "evalue": "name 'lbp_selected' is not defined",
     "output_type": "error",
     "traceback": [
      "\u001b[0;31m---------------------------------------------------------------------------\u001b[0m",
      "\u001b[0;31mNameError\u001b[0m                                 Traceback (most recent call last)",
      "\u001b[0;32m<ipython-input-28-4f99d3ac8040>\u001b[0m in \u001b[0;36m<module>\u001b[0;34m\u001b[0m\n\u001b[1;32m      1\u001b[0m \u001b[0mprint\u001b[0m\u001b[0;34m(\u001b[0m\u001b[0mharalicks_method_selected\u001b[0m\u001b[0;34m.\u001b[0m\u001b[0mselected_features\u001b[0m\u001b[0;34m)\u001b[0m\u001b[0;34m\u001b[0m\u001b[0;34m\u001b[0m\u001b[0m\n\u001b[1;32m      2\u001b[0m \u001b[0mprint\u001b[0m\u001b[0;34m(\u001b[0m\u001b[0mharalicks3d_method_selected\u001b[0m\u001b[0;34m.\u001b[0m\u001b[0mselected_features\u001b[0m\u001b[0;34m)\u001b[0m\u001b[0;34m\u001b[0m\u001b[0;34m\u001b[0m\u001b[0m\n\u001b[0;32m----> 3\u001b[0;31m \u001b[0mprint\u001b[0m\u001b[0;34m(\u001b[0m\u001b[0mlbp_selected\u001b[0m\u001b[0;34m.\u001b[0m\u001b[0mradius\u001b[0m\u001b[0;34m,\u001b[0m\u001b[0mlbp_selected\u001b[0m\u001b[0;34m.\u001b[0m\u001b[0mn_points\u001b[0m\u001b[0;34m)\u001b[0m\u001b[0;34m\u001b[0m\u001b[0;34m\u001b[0m\u001b[0m\n\u001b[0m\u001b[1;32m      4\u001b[0m \u001b[0mprint\u001b[0m\u001b[0;34m(\u001b[0m\u001b[0mlbp3d_selected\u001b[0m\u001b[0;34m.\u001b[0m\u001b[0mlbp_xy\u001b[0m\u001b[0;34m.\u001b[0m\u001b[0mradius\u001b[0m\u001b[0;34m,\u001b[0m\u001b[0mlbp3d_selected\u001b[0m\u001b[0;34m.\u001b[0m\u001b[0mlbp_xy\u001b[0m\u001b[0;34m.\u001b[0m\u001b[0mn_points\u001b[0m\u001b[0;34m)\u001b[0m\u001b[0;34m\u001b[0m\u001b[0;34m\u001b[0m\u001b[0m\n\u001b[1;32m      5\u001b[0m \u001b[0mprint\u001b[0m\u001b[0;34m(\u001b[0m\u001b[0mlbp3d_selected\u001b[0m\u001b[0;34m.\u001b[0m\u001b[0mlbp_xz\u001b[0m\u001b[0;34m.\u001b[0m\u001b[0mradius\u001b[0m\u001b[0;34m,\u001b[0m\u001b[0mlbp3d_selected\u001b[0m\u001b[0;34m.\u001b[0m\u001b[0mlbp_xz\u001b[0m\u001b[0;34m.\u001b[0m\u001b[0mn_points\u001b[0m\u001b[0;34m)\u001b[0m\u001b[0;34m\u001b[0m\u001b[0;34m\u001b[0m\u001b[0m\n",
      "\u001b[0;31mNameError\u001b[0m: name 'lbp_selected' is not defined"
     ]
    }
   ],
   "source": [
    "print(haralicks_method_selected.selected_features)\n",
    "print(haralicks3d_method_selected.selected_features)\n",
    "print(lbp_selected.radius,lbp_selected.n_points)\n",
    "print(lbp3d_selected.lbp_xy.radius,lbp3d_selected.lbp_xy.n_points)\n",
    "print(lbp3d_selected.lbp_xz.radius,lbp3d_selected.lbp_xz.n_points)\n",
    "print(lbp3d_selected.lbp_yz.radius,lbp3d_selected.lbp_yz.n_points)"
   ]
  },
  {
   "cell_type": "code",
   "execution_count": null,
   "metadata": {},
   "outputs": [],
   "source": [
    "#print(e_haralicks.calcAuc(5,\"ishealthy\",True))\n",
    "print(e_haralicks_selected.calcAuc(5,\"shape\",\"triangle\"))\n",
    "print(e_haralicks3d_selected.calcAuc(5,\"shape\",\"triangle\"))\n",
    "#print(e_lbp.calcAuc(5,\"shape\",\"triangle\"))\n",
    "print(e_lbp_selected.calcAuc(5,\"shape\",\"triangle\"))\n",
    "print(e_lbp3d_selected.calcAuc(5,\"shape\",\"triangle\"))\n",
    "#print(e_ML_shape.calcAuc(5,\"shape\",\"triangle\"))\n",
    "#print(e_haralicks.MAP(test_data.count,5,[\"ishealthy\"]))\n",
    "#print(e_lbp.MAP(test_data.count,5,[\"ishealthy\"]))\n",
    "print(e_ml_shape.calcAuc(5,\"shape\",\"triangle\"))\n",
    "print(\"_______MAP___________\")\n",
    "print(e_haralicks_selected.MAP(test_data.count,5,[\"ishealthy\"]))\n",
    "print(e_haralicks3d_selected.MAP(test_data.count,5,[\"ishealthy\"]))\n",
    "print(e_lbp_selected.MAP(test_data.count,5,[\"ishealthy\"]))\n",
    "print(e_lbp3d_selected.MAP(test_data.count,5,[\"ishealthy\"]))\n",
    "print(e_ML_shape.MAP(test_data.count,5,[\"ishealthy\"]))"
   ]
  },
  {
   "cell_type": "code",
   "execution_count": null,
   "metadata": {},
   "outputs": [],
   "source": [
    "e_haralicks_selected.precisionRecall(5,\"ishealthy\",True)\n",
    "e_haralicks3d_selected.precisionRecall(5,\"ishealthy\",True)\n",
    "e_lbp_selected.precisionRecall(5,\"ishealthy\",True)\n",
    "e_lbp3d_selected.precisionRecall(5,\"ishealthy\",True)\n",
    "e_ML_shape.precisionRecall(5,\"ishealthy\",True)"
   ]
  },
  {
   "cell_type": "code",
   "execution_count": null,
   "metadata": {},
   "outputs": [],
   "source": []
  }
 ],
 "metadata": {
  "kernelspec": {
   "display_name": "Python [conda env:bach] *",
   "language": "python",
   "name": "conda-env-bach-py"
  },
  "language_info": {
   "codemirror_mode": {
    "name": "ipython",
    "version": 3
   },
   "file_extension": ".py",
   "mimetype": "text/x-python",
   "name": "python",
   "nbconvert_exporter": "python",
   "pygments_lexer": "ipython3",
   "version": "3.7.1"
  }
 },
 "nbformat": 4,
 "nbformat_minor": 2
}
